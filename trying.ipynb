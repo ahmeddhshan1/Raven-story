{
 "cells": [
  {
   "cell_type": "code",
   "execution_count": 1,
   "metadata": {},
   "outputs": [],
   "source": [
    "from threading import Thread \n",
    "from os        import listdir , path , mkdir\n",
    "from queue     import Queue \n",
    "import cv2 as cv"
   ]
  },
  {
   "cell_type": "code",
   "execution_count": 2,
   "metadata": {},
   "outputs": [],
   "source": [
    "import cv2  # OpenCV library \n",
    "import time # time library\n",
    "from threading import Thread # library for multi-threading"
   ]
  },
  {
   "cell_type": "code",
   "execution_count": 3,
   "metadata": {},
   "outputs": [],
   "source": [
    "# defining a helper class for implementing multi-threading \n",
    "class readingframes :\n",
    "    # initialization method \n",
    "    def __init__(self,videos_path ):\n",
    "        self.videos_path = videos_path # default is 0 for main camera \n",
    "        \n",
    "        # opening video capture stream \n",
    "        self.vcap      = cv.VideoCapture(self.videos_path)\n",
    "        # if self.vcap.isOpened() is False :\n",
    "        #     print(\"[Exiting]: Error accessing webcam stream.\")\n",
    "        #     exit(0)\n",
    "        # fps_input_stream = int(self.vcap.get(5)) # hardware fps\n",
    "        # print(\"FPS of input stream: {}\".format(fps_input_stream))\n",
    "            \n",
    "        # reading a single frame from vcap stream for initializing \n",
    "        self.grabbed , self.frame = self.vcap.read()\n",
    "        if self.grabbed is False :\n",
    "            print('[Exiting] No more frames to read')\n",
    "            exit(0)\n",
    "        # self.stopped is initialized to False \n",
    "        self.stopped = True\n",
    "        # thread instantiation  \n",
    "        self.t = Thread(target=self.update, args=())\n",
    "        self.t.daemon = True # daemon threads run in background \n",
    "        \n",
    "    # method to start thread \n",
    "    def start(self):\n",
    "        self.stopped = False\n",
    "        self.t.start()\n",
    "    # method passed to thread to read next available frame  \n",
    "    def update(self):\n",
    "        while True :\n",
    "            if self.stopped is True :\n",
    "                break\n",
    "            self.grabbed , self.frame = self.vcap.read()\n",
    "            if self.grabbed is False :\n",
    "                print('[Exiting] No more frames to read')\n",
    "                self.stopped = True\n",
    "                break \n",
    "        self.vcap.release()\n",
    "    # method to return latest read frame \n",
    "    def read(self):\n",
    "        return self.frame\n",
    "    # method to stop reading frames \n",
    "    def stop(self):\n",
    "        self.stopped = True\n"
   ]
  },
  {
   "cell_type": "code",
   "execution_count": 9,
   "metadata": {},
   "outputs": [
    {
     "ename": "KeyboardInterrupt",
     "evalue": "",
     "output_type": "error",
     "traceback": [
      "\u001b[1;31m---------------------------------------------------------------------------\u001b[0m",
      "\u001b[1;31mKeyboardInterrupt\u001b[0m                         Traceback (most recent call last)",
      "Cell \u001b[1;32mIn[9], line 26\u001b[0m\n\u001b[0;32m     21\u001b[0m         \u001b[39m# if len(contours) !=0:\u001b[39;00m\n\u001b[0;32m     22\u001b[0m         \u001b[39m#     cv.drawContours(frame,contours, -1,(0,255,0), 3)\u001b[39;00m\n\u001b[0;32m     23\u001b[0m \n\u001b[0;32m     24\u001b[0m \u001b[39m# adding a delay for simulating video processing time \u001b[39;00m\n\u001b[0;32m     25\u001b[0m delay \u001b[39m=\u001b[39m \u001b[39m0.03\u001b[39m \u001b[39m# delay value in seconds\u001b[39;00m\n\u001b[1;32m---> 26\u001b[0m time\u001b[39m.\u001b[39msleep(delay) \n\u001b[0;32m     27\u001b[0m num_frames_processed \u001b[39m+\u001b[39m\u001b[39m=\u001b[39m \u001b[39m1\u001b[39m\n\u001b[0;32m     28\u001b[0m \u001b[39m# displaying frame \u001b[39;00m\n\u001b[0;32m     29\u001b[0m \u001b[39m# cv2.imshow('frame' , cv.resize(frame,(405,720)))\u001b[39;00m\n\u001b[0;32m     30\u001b[0m \u001b[39m# cv2.imshow('pre' , cv.resize(preperd_frame,(405,720)))\u001b[39;00m\n\u001b[0;32m     31\u001b[0m \u001b[39m# key = cv2.waitKey(1)\u001b[39;00m\n\u001b[0;32m     32\u001b[0m \u001b[39m# if key == ord('q'):\u001b[39;00m\n\u001b[0;32m     33\u001b[0m \u001b[39m#     break\u001b[39;00m\n",
      "\u001b[1;31mKeyboardInterrupt\u001b[0m: "
     ]
    },
    {
     "name": "stdout",
     "output_type": "stream",
     "text": [
      "[Exiting] No more frames to read\n"
     ]
    }
   ],
   "source": [
    "# initializing and starting multi-threaded webcam input stream \n",
    "reading_frames = readingframes(\"F:/raven project/project videos/T.M/CHRONIC/team 9/chronic myna 2nd blue tool making TS 9 spontaneously perform.mp4\") # 0 id for main camera\n",
    "reading_frames.start()\n",
    "# processing frames in input stream\n",
    "num_frames_processed = 0 \n",
    "start = time.time()\n",
    "back_sub=cv.createBackgroundSubtractorMOG2(history=90,varThreshold=90,detectShadows=False)\n",
    "while True :\n",
    "    if reading_frames.stopped is True :\n",
    "        break\n",
    "    else :\n",
    "        frame = reading_frames.read()\n",
    "        frame=cv.rotate(frame,cv.ROTATE_180)\n",
    "        preperd_frame = back_sub.apply(frame)\n",
    "        preperd_frame=cv.GaussianBlur(preperd_frame,(5,5),0)\n",
    "        contours,_=cv.findContours(preperd_frame,cv.RETR_TREE,cv.CHAIN_APPROX_NONE)\n",
    "        for con in contours:\n",
    "            area= cv.contourArea(con)\n",
    "            if area < 7000 :\n",
    "                continue\n",
    "            # if len(contours) !=0:\n",
    "            #     cv.drawContours(frame,contours, -1,(0,255,0), 3)\n",
    "\n",
    "    # adding a delay for simulating video processing time \n",
    "    delay = 0.03 # delay value in seconds\n",
    "    time.sleep(delay) \n",
    "    num_frames_processed += 1\n",
    "    # displaying frame \n",
    "    # cv2.imshow('frame' , cv.resize(frame,(405,720)))\n",
    "    # cv2.imshow('pre' , cv.resize(preperd_frame,(405,720)))\n",
    "    # key = cv2.waitKey(1)\n",
    "    # if key == ord('q'):\n",
    "    #     break\n",
    "end = time.time()\n",
    "reading_frames.stop() # stop the webcam stream"
   ]
  },
  {
   "cell_type": "code",
   "execution_count": 4,
   "metadata": {},
   "outputs": [
    {
     "name": "stdout",
     "output_type": "stream",
     "text": [
      "[Exiting] No more frames to read\n"
     ]
    }
   ],
   "source": [
    "# initializing and starting multi-threaded webcam input stream \n",
    "reading_frames = readingframes(\"F:/raven project/project videos/T.M/CHRONIC/team 9/chronic myna 2nd blue tool making TS 9 spontaneously perform.mp4\") # 0 id for main camera\n",
    "reading_frames.start()\n",
    "# processing frames in input stream\n",
    "num_frames_processed = 0 \n",
    "start = time.time()\n",
    "while True :\n",
    "    if reading_frames.stopped is True :\n",
    "        break\n",
    "    else :\n",
    "        frame = reading_frames.read()\n",
    "    # adding a delay for simulating video processing time \n",
    "    delay = 0.03 # delay value in seconds\n",
    "    time.sleep(delay) \n",
    "    num_frames_processed += 1\n",
    "    # displaying frame \n",
    "    # cv2.imshow('frame' , frame)\n",
    "    # key = cv2.waitKey(1)\n",
    "    # if key == ord('q'):\n",
    "    #     break\n",
    "end = time.time()\n",
    "reading_frames.stop() # stop the webcam stream"
   ]
  },
  {
   "cell_type": "code",
   "execution_count": 13,
   "metadata": {},
   "outputs": [],
   "source": [
    "# printing time elapsed and fps \n",
    "# elapsed = end-start\n",
    "# fps = num_frames_processed/elapsed \n",
    "# print(\"FPS: {} , Elapsed Time: {} \".format(fps, elapsed))\n",
    "# # closing all windows \n",
    "cv2.destroyAllWindows()\n",
    "reading_frames.stop() "
   ]
  }
 ],
 "metadata": {
  "kernelspec": {
   "display_name": "Python 3",
   "language": "python",
   "name": "python3"
  },
  "language_info": {
   "codemirror_mode": {
    "name": "ipython",
    "version": 3
   },
   "file_extension": ".py",
   "mimetype": "text/x-python",
   "name": "python",
   "nbconvert_exporter": "python",
   "pygments_lexer": "ipython3",
   "version": "3.11.0"
  },
  "orig_nbformat": 4,
  "vscode": {
   "interpreter": {
    "hash": "328543c14e67749527378fd9d598798d406739103cb7dff262233cddae2d7f33"
   }
  }
 },
 "nbformat": 4,
 "nbformat_minor": 2
}
